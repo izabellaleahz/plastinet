{
 "cells": [
  {
   "cell_type": "code",
   "execution_count": null,
   "id": "b03b8c25-5b8e-487a-a8a5-bfce97a7dd1b",
   "metadata": {},
   "outputs": [],
   "source": [
    "import sys\n",
    "sys.path.append('data/PlastiNet_v2')\n",
    "\n",
    "from plastinet.visualization.plots import plot_continous_obs, plot_tissue, plot_composition_dot_plot, plot_expression"
   ]
  },
  {
   "cell_type": "code",
   "execution_count": null,
   "id": "bef1da6f-5fef-450e-9c04-e43f09cc5c56",
   "metadata": {},
   "outputs": [],
   "source": [
    "import sys\n",
    "print(sys.path)\n"
   ]
  },
  {
   "cell_type": "code",
   "execution_count": 1,
   "id": "73149ce5-103f-4b7a-bc20-b6a11bfc37c9",
   "metadata": {},
   "outputs": [
    {
     "data": {
      "text/plain": [
       "11"
      ]
     },
     "execution_count": 1,
     "metadata": {},
     "output_type": "execute_result"
    }
   ],
   "source": [
    "5+6"
   ]
  },
  {
   "cell_type": "code",
   "execution_count": null,
   "id": "79b95fe1-a70b-49e9-a05c-7a312e5f8215",
   "metadata": {},
   "outputs": [],
   "source": []
  }
 ],
 "metadata": {
  "kernelspec": {
   "display_name": "nolan",
   "language": "python",
   "name": "nolan"
  },
  "language_info": {
   "codemirror_mode": {
    "name": "ipython",
    "version": 3
   },
   "file_extension": ".py",
   "mimetype": "text/x-python",
   "name": "python",
   "nbconvert_exporter": "python",
   "pygments_lexer": "ipython3",
   "version": "3.7.12"
  }
 },
 "nbformat": 4,
 "nbformat_minor": 5
}
