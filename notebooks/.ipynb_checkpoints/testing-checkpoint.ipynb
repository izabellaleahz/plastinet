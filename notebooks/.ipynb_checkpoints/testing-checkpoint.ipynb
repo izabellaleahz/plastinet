{
 "cells": [
  {
   "cell_type": "code",
   "execution_count": 23,
   "id": "de6308fc-2332-4e51-a812-f17e5be66ea8",
   "metadata": {
    "scrolled": true
   },
   "outputs": [],
   "source": [
    "import sys\n",
    "import scanpy as sc \n",
    "import numpy \n",
    "\n",
    "sys.path.append('/home/jupyter/data/PlastiNet_v2')\n",
    "\n",
    "# plotting functions \n",
    "from plastinet.data.data_loader import create_data_objects\n",
    "\n",
    "from plastinet.visualization.plots import plot_continous_obs, plot_tissue, plot_composition_dot_plot, plot_expression"
   ]
  },
  {
   "cell_type": "code",
   "execution_count": 26,
   "id": "c63c5cb4-3ab4-47c0-892d-334d446d4821",
   "metadata": {},
   "outputs": [
    {
     "data": {
      "text/plain": [
       "AnnData object with n_obs × n_vars = 2200 × 3\n",
       "    obs: 'R', 'G', 'B'\n",
       "    obsm: 'spatial'"
      ]
     },
     "execution_count": 26,
     "metadata": {},
     "output_type": "execute_result"
    }
   ],
   "source": [
    "adata = sc.read_h5ad(\"../multi_radial_adata.h5ad\")\n",
    "adata"
   ]
  },
  {
   "cell_type": "code",
   "execution_count": 27,
   "id": "06a7434f-f337-4790-854a-3d0c5bed7d70",
   "metadata": {},
   "outputs": [
    {
     "data": {
      "text/plain": [
       "AnnData object with n_obs × n_vars = 2200 × 3\n",
       "    obs: 'R', 'G', 'B', 'X', 'Y'\n",
       "    obsm: 'spatial'"
      ]
     },
     "execution_count": 27,
     "metadata": {},
     "output_type": "execute_result"
    }
   ],
   "source": [
    "adata.obs['X'] = adata.obsm['spatial'][:, 0]  # X coordinate\n",
    "adata.obs['Y'] = adata.obsm['spatial'][:, 1]  # Y coordinate\n",
    "adata"
   ]
  },
  {
   "cell_type": "code",
   "execution_count": 28,
   "id": "4f06da4f-df9a-479f-a550-c7b6f4f707ed",
   "metadata": {},
   "outputs": [],
   "source": [
    "adata.obs[\"sample_id\"] = [0 for x in adata.obs.index]"
   ]
  },
  {
   "cell_type": "code",
   "execution_count": 38,
   "id": "c96e7ca0-5168-4785-bea9-d1f018508b5d",
   "metadata": {},
   "outputs": [
    {
     "name": "stderr",
     "output_type": "stream",
     "text": [
      "/home/jupyter/data/PlastiNet_v2/plastinet/models/plastinet_model.py:58: UserWarning: To copy construct from a tensor, it is recommended to use sourceTensor.clone().detach() or sourceTensor.clone().detach().requires_grad_(True), rather than torch.tensor(sourceTensor).\n",
      "  coords = torch.tensor(batch.pos).float().to(self.device)\n"
     ]
    },
    {
     "name": "stdout",
     "output_type": "stream",
     "text": [
      "Epoch 0/5, Loss: 34.11565399169922\n"
     ]
    }
   ],
   "source": [
    "import importlib\n",
    "import torch\n",
    "from torch_geometric.data import DataLoader\n",
    "\n",
    "# Import the required modules and use `importlib.reload` to refresh them\n",
    "from plastinet.models import plastinet_model\n",
    "from plastinet.data import data_loader, graph_utils\n",
    "\n",
    "# Reload the modules to refresh them without restarting the kernel\n",
    "importlib.reload(plastinet_model)\n",
    "importlib.reload(data_loader)\n",
    "importlib.reload(graph_utils)\n",
    "\n",
    "# Now re-import the specific classes and functions from the reloaded modules\n",
    "from plastinet.models.plastinet_model import PlastiNet\n",
    "from plastinet.data.data_loader import create_data_objects\n",
    "from plastinet.data.graph_utils import graph_alpha, sparse_mx_to_torch_edge_list, graph_to_sparse_matrix\n",
    "\n",
    "plastinet = PlastiNet(adata, sample_key=\"sample_id\", radius=15, z_dim=50, epochs=1, spatial_reg=0.2)\n",
    "plastinet.run_gat()"
   ]
  },
  {
   "cell_type": "code",
   "execution_count": null,
   "id": "e07884d3-23a4-417f-9392-6126d6f17d07",
   "metadata": {},
   "outputs": [],
   "source": []
  },
  {
   "cell_type": "code",
   "execution_count": 39,
   "id": "fc231352-6b14-4b2a-8b42-6f727ebc8aa6",
   "metadata": {},
   "outputs": [
    {
     "data": {
      "text/plain": [
       "AnnData object with n_obs × n_vars = 2200 × 50\n",
       "    obs: 'R', 'G', 'B', 'X', 'Y', 'sample_id'"
      ]
     },
     "execution_count": 39,
     "metadata": {},
     "output_type": "execute_result"
    }
   ],
   "source": [
    "plastinet.embedding_adata"
   ]
  }
 ],
 "metadata": {
  "kernelspec": {
   "display_name": "plastiNet",
   "language": "python",
   "name": "plastinet"
  },
  "language_info": {
   "codemirror_mode": {
    "name": "ipython",
    "version": 3
   },
   "file_extension": ".py",
   "mimetype": "text/x-python",
   "name": "python",
   "nbconvert_exporter": "python",
   "pygments_lexer": "ipython3",
   "version": "3.8.19"
  }
 },
 "nbformat": 4,
 "nbformat_minor": 5
}
