{
 "cells": [
  {
   "cell_type": "code",
   "execution_count": 1,
   "id": "de6308fc-2332-4e51-a812-f17e5be66ea8",
   "metadata": {
    "scrolled": true
   },
   "outputs": [
    {
     "name": "stderr",
     "output_type": "stream",
     "text": [
      "/home/jupyter/mambaforge/envs/plastiNet/lib/python3.8/site-packages/tqdm/auto.py:21: TqdmWarning: IProgress not found. Please update jupyter and ipywidgets. See https://ipywidgets.readthedocs.io/en/stable/user_install.html\n",
      "  from .autonotebook import tqdm as notebook_tqdm\n",
      "/home/jupyter/mambaforge/envs/plastiNet/lib/python3.8/site-packages/torch_geometric/typing.py:110: UserWarning: An issue occurred while importing 'torch-sparse'. Disabling its usage. Stacktrace: \n",
      "object has no attribute sparse_csc_tensor:\n",
      "  File \"/home/jupyter/mambaforge/envs/plastiNet/lib/python3.8/site-packages/torch_sparse/tensor.py\", line 585\n",
      "            value = torch.ones(self.nnz(), dtype=dtype, device=self.device())\n",
      "    \n",
      "        return torch.sparse_csc_tensor(colptr, row, value, self.sizes())\n",
      "               ~~~~~~~~~~~~~~~~~~~~~~~ <--- HERE\n",
      "\n",
      "  warnings.warn(f\"An issue occurred while importing 'torch-sparse'. \"\n"
     ]
    }
   ],
   "source": [
    "import sys\n",
    "import scanpy as sc \n",
    "import numpy as np\n",
    "\n",
    "sys.path.append('/home/jupyter/data/PlastiNet_v2')\n",
    "\n",
    "# plotting functions \n",
    "from plastinet.data.data_loader import create_data_objects\n",
    "\n",
    "from plastinet.visualization.plots import plot_continous_obs, plot_tissue, plot_composition_dot_plot, plot_expression"
   ]
  },
  {
   "cell_type": "code",
   "execution_count": 65,
   "id": "c63c5cb4-3ab4-47c0-892d-334d446d4821",
   "metadata": {},
   "outputs": [],
   "source": [
    "# adata = sc.read_h5ad(\"../multi_radial_adata.h5ad\")\n",
    "# adata\n",
    "\n",
    "adata = sc.read_h5ad(\"../../../PDAC/GAT_HMM/Validation_of_GAT/CosMx Intestine/exp_clustered.h5ad\")\n",
    "adata = adata[adata.obs[\"sample_source\"] == \"HC_b_\"]\n",
    "# adata = adata[adata.obs[\"fov\"].isin([6, 7])]"
   ]
  },
  {
   "cell_type": "code",
   "execution_count": 66,
   "id": "9672edb0-aa4f-4caa-9b30-b61f51f1c569",
   "metadata": {},
   "outputs": [
    {
     "data": {
      "text/plain": [
       "View of AnnData object with n_obs × n_vars = 54772 × 980\n",
       "    obs: 'fov', 'cell_ID', 'Area', 'AspectRatio', 'CenterX_local_px', 'CenterY_local_px', 'CenterX_global_px', 'CenterY_global_px', 'Width', 'Height', 'Mean.MembraneStain', 'Max.MembraneStain', 'Mean.PanCK', 'Max.PanCK', 'Mean.CD45', 'Max.CD45', 'Mean.CD3', 'Max.CD3', 'Mean.DAPI', 'Max.DAPI', 'sample_source', 'subset', 'fine_type', 'n_genes', 'leiden_0.1', 'leiden_0.2', 'leiden_0.3', 'leiden_0.4', 'X', 'Y'\n",
       "    uns: 'fine_type_colors', 'leiden', 'log1p', 'neighbors', 'pca', 'sample_source_colors', 'subset_colors', 'umap'\n",
       "    obsm: 'X_pca', 'X_umap'\n",
       "    varm: 'PCs'\n",
       "    obsp: 'connectivities', 'distances'"
      ]
     },
     "execution_count": 66,
     "metadata": {},
     "output_type": "execute_result"
    }
   ],
   "source": [
    "adata"
   ]
  },
  {
   "cell_type": "code",
   "execution_count": 67,
   "id": "06a7434f-f337-4790-854a-3d0c5bed7d70",
   "metadata": {},
   "outputs": [],
   "source": [
    "spatial_coords = np.array([adata.obs[\"X\"], adata.obs[\"Y\"]]).T\n",
    "adata.obsm[\"spatial\"] = spatial_coords\n",
    "\n",
    "# adata.obs['X'] = adata.obsm['spatial'][:, 0]  # X coordinate\n",
    "# adata.obs['Y'] = adata.obsm['spatial'][:, 1]  # Y coordinate\n",
    "# adata"
   ]
  },
  {
   "cell_type": "code",
   "execution_count": 68,
   "id": "4f06da4f-df9a-479f-a550-c7b6f4f707ed",
   "metadata": {},
   "outputs": [],
   "source": [
    "adata.obs[\"sample_source\"] = [0 for x in adata.obs.index]"
   ]
  },
  {
   "cell_type": "code",
   "execution_count": 69,
   "id": "7f0f6bac-4e71-4126-9b12-1b62a738b5ba",
   "metadata": {},
   "outputs": [],
   "source": [
    "# X_min = adata.X.min(axis=0)\n",
    "# X_max = adata.X.max(axis=0)\n",
    "\n",
    "# # Avoid division by zero for features where max equals min\n",
    "# X_range = X_max - X_min\n",
    "# X_range[X_range == 0] = 1  # Set the range to 1 where the max equals min to prevent division by zero\n",
    "\n",
    "# # Apply min-max normalization\n",
    "# adata.X = (adata.X - X_min) / X_range"
   ]
  },
  {
   "cell_type": "code",
   "execution_count": null,
   "id": "bc3f256d-5d26-4452-b91d-f24ca5538f7d",
   "metadata": {},
   "outputs": [],
   "source": [
    "# NOTE CHECK \n",
    "# check the scale of the different loss components to make sure they are on the same scale "
   ]
  },
  {
   "cell_type": "code",
   "execution_count": null,
   "id": "c96e7ca0-5168-4785-bea9-d1f018508b5d",
   "metadata": {},
   "outputs": [
    {
     "name": "stderr",
     "output_type": "stream",
     "text": [
      "/home/jupyter/mambaforge/envs/plastiNet/lib/python3.8/site-packages/torch_geometric/deprecation.py:26: UserWarning: 'data.DataLoader' is deprecated, use 'loader.DataLoader' instead\n",
      "  warnings.warn(out)\n"
     ]
    }
   ],
   "source": [
    "import importlib\n",
    "import torch\n",
    "from torch_geometric.data import DataLoader\n",
    "\n",
    "from plastinet.models import plastinet_model\n",
    "from plastinet.data import data_loader, graph_utils\n",
    "\n",
    "importlib.reload(plastinet_model)\n",
    "importlib.reload(data_loader)\n",
    "importlib.reload(graph_utils)\n",
    "\n",
    "from plastinet.models.plastinet_model import PlastiNet\n",
    "from plastinet.data.data_loader import create_data_objects\n",
    "from plastinet.data.graph_utils import graph_alpha, sparse_mx_to_torch_edge_list, graph_to_sparse_matrix\n",
    "\n",
    "# plastinet = PlastiNet(adata, sample_key=\"sample_source\", radius=10, z_dim=10, epochs=5, spatial_reg=0.2)\n",
    "\n",
    "plastinet = PlastiNet(adata, sample_key=\"sample_source\", radius=250, z_dim=50, epochs=5, spatial_reg=0.2)\n",
    "\n",
    "plastinet.run_gat()"
   ]
  },
  {
   "cell_type": "code",
   "execution_count": null,
   "id": "d68298e9-5e2e-40db-8038-9c7608aaf19b",
   "metadata": {},
   "outputs": [],
   "source": [
    "adata"
   ]
  },
  {
   "cell_type": "code",
   "execution_count": null,
   "id": "fc231352-6b14-4b2a-8b42-6f727ebc8aa6",
   "metadata": {},
   "outputs": [],
   "source": [
    "embedding_adata = plastinet.embedding_adata"
   ]
  },
  {
   "cell_type": "code",
   "execution_count": null,
   "id": "37503c8b-af6c-4ca2-9851-e0a81f136cc7",
   "metadata": {},
   "outputs": [],
   "source": [
    "embedding_adata"
   ]
  },
  {
   "cell_type": "code",
   "execution_count": null,
   "id": "950e5a80-63d4-4f73-bd2a-09c2e503a485",
   "metadata": {},
   "outputs": [],
   "source": [
    "# sc.pp.neighbors(embedding_adata, use_rep='X') \n",
    "# sc.tl.umap(embedding_adata)\n",
    "sc.tl.leiden(embedding_adata, resolution=0.4)\n",
    "sc.pl.umap(embedding_adata, color = \"leiden\")"
   ]
  },
  {
   "cell_type": "code",
   "execution_count": null,
   "id": "762bbc28-6f0d-4ad8-9c1f-759d50dbc828",
   "metadata": {},
   "outputs": [],
   "source": [
    "embedding_adata.obs[\"subset\"] = adata.obs[\"subset\"]\n",
    "sc.pl.umap(embedding_adata, color = \"subset\")\n",
    "plot_tissue(embedding_adata, \"leiden\")"
   ]
  },
  {
   "cell_type": "code",
   "execution_count": null,
   "id": "324d5f1e-edf3-4fe9-92fb-0050e9f400e8",
   "metadata": {},
   "outputs": [],
   "source": [
    "plot_tissue(embedding_adata, \"leiden\")"
   ]
  },
  {
   "cell_type": "code",
   "execution_count": 15,
   "id": "ca8ab06e-7b8a-4e67-8eac-587a9c5f92ae",
   "metadata": {},
   "outputs": [],
   "source": [
    "# embedding_adata.obs[\"subset\"] = adata.obs[\"subset\"]\n",
    "# sc.pl.umap(embedding_adata, color = \"subset\")"
   ]
  },
  {
   "cell_type": "code",
   "execution_count": 63,
   "id": "6f36d54f-749e-4130-b970-249c60df6105",
   "metadata": {},
   "outputs": [
    {
     "data": {
      "text/plain": [
       "(array([[0., 0., 0., ..., 0., 0., 0.],\n",
       "        [0., 0., 1., ..., 0., 0., 0.],\n",
       "        [0., 0., 0., ..., 0., 0., 0.],\n",
       "        ...,\n",
       "        [0., 0., 3., ..., 0., 0., 0.],\n",
       "        [0., 0., 0., ..., 0., 0., 0.],\n",
       "        [0., 0., 0., ..., 0., 0., 0.]]),\n",
       " array([0.01088549, 0.01173479, 0.01258408, 0.01343337, 0.01428266,\n",
       "        0.01513196, 0.01598125, 0.01683054, 0.01767983, 0.01852913,\n",
       "        0.01937842]),\n",
       " <a list of 980 BarContainer objects>)"
      ]
     },
     "execution_count": 63,
     "metadata": {},
     "output_type": "execute_result"
    },
    {
     "data": {
      "image/png": "[encoded data removed]",
      "text/plain": [
       "<Figure size 640x480 with 1 Axes>"
      ]
     },
     "metadata": {},
     "output_type": "display_data"
    }
   ],
   "source": [
    "import matplotlib.pyplot as plt\n",
    "\n",
    "plt.hist(plastinet.neighbor_attn_weights[5])\n"
   ]
  },
  {
   "cell_type": "code",
   "execution_count": 64,
   "id": "493ea9ee-0707-476a-8c70-95eaa99d3f53",
   "metadata": {},
   "outputs": [
    {
     "data": {
      "text/plain": [
       "0.019378418"
      ]
     },
     "execution_count": 64,
     "metadata": {},
     "output_type": "execute_result"
    }
   ],
   "source": [
    "plastinet.neighbor_attn_weights[5].max()"
   ]
  },
  {
   "cell_type": "code",
   "execution_count": null,
   "id": "9c9bb6b0-3e07-47dc-a284-8a8e7454232e",
   "metadata": {},
   "outputs": [],
   "source": []
  }
 ],
 "metadata": {
  "kernelspec": {
   "display_name": "plastiNet",
   "language": "python",
   "name": "plastinet"
  },
  "language_info": {
   "codemirror_mode": {
    "name": "ipython",
    "version": 3
   },
   "file_extension": ".py",
   "mimetype": "text/x-python",
   "name": "python",
   "nbconvert_exporter": "python",
   "pygments_lexer": "ipython3",
   "version": "3.8.19"
  }
 },
 "nbformat": 4,
 "nbformat_minor": 5
}
