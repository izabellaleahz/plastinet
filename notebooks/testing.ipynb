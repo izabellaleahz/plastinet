{
 "cells": [
  {
   "cell_type": "code",
   "execution_count": 1,
   "id": "de6308fc-2332-4e51-a812-f17e5be66ea8",
   "metadata": {
    "scrolled": true
   },
   "outputs": [
    {
     "name": "stderr",
     "output_type": "stream",
     "text": [
      "/home/jupyter/mambaforge/envs/plastiNet/lib/python3.8/site-packages/tqdm/auto.py:21: TqdmWarning: IProgress not found. Please update jupyter and ipywidgets. See https://ipywidgets.readthedocs.io/en/stable/user_install.html\n",
      "  from .autonotebook import tqdm as notebook_tqdm\n",
      "/home/jupyter/mambaforge/envs/plastiNet/lib/python3.8/site-packages/torch_geometric/typing.py:110: UserWarning: An issue occurred while importing 'torch-sparse'. Disabling its usage. Stacktrace: \n",
      "object has no attribute sparse_csc_tensor:\n",
      "  File \"/home/jupyter/mambaforge/envs/plastiNet/lib/python3.8/site-packages/torch_sparse/tensor.py\", line 585\n",
      "            value = torch.ones(self.nnz(), dtype=dtype, device=self.device())\n",
      "    \n",
      "        return torch.sparse_csc_tensor(colptr, row, value, self.sizes())\n",
      "               ~~~~~~~~~~~~~~~~~~~~~~~ <--- HERE\n",
      "\n",
      "  warnings.warn(f\"An issue occurred while importing 'torch-sparse'. \"\n"
     ]
    }
   ],
   "source": [
    "import sys\n",
    "import scanpy as sc \n",
    "import numpy \n",
    "\n",
    "sys.path.append('/home/jupyter/data/PlastiNet_v2')\n",
    "\n",
    "# plotting functions \n",
    "from plastinet.data.data_loader import create_data_objects\n",
    "\n",
    "from plastinet.visualization.plots import plot_continous_obs, plot_tissue, plot_composition_dot_plot, plot_expression"
   ]
  },
  {
   "cell_type": "code",
   "execution_count": 2,
   "id": "c63c5cb4-3ab4-47c0-892d-334d446d4821",
   "metadata": {},
   "outputs": [
    {
     "name": "stderr",
     "output_type": "stream",
     "text": [
      "/home/jupyter/mambaforge/envs/plastiNet/lib/python3.8/site-packages/anndata/_core/anndata.py:121: ImplicitModificationWarning: Transforming to str index.\n",
      "  warnings.warn(\"Transforming to str index.\", ImplicitModificationWarning)\n"
     ]
    },
    {
     "data": {
      "text/plain": [
       "AnnData object with n_obs × n_vars = 2200 × 3\n",
       "    obs: 'R', 'G', 'B'\n",
       "    obsm: 'spatial'"
      ]
     },
     "execution_count": 2,
     "metadata": {},
     "output_type": "execute_result"
    }
   ],
   "source": [
    "adata = sc.read_h5ad(\"../../C_back_end/dummy_data/multi_radial_adata.h5ad\")\n",
    "adata"
   ]
  },
  {
   "cell_type": "code",
   "execution_count": 3,
   "id": "06a7434f-f337-4790-854a-3d0c5bed7d70",
   "metadata": {},
   "outputs": [
    {
     "data": {
      "text/plain": [
       "AnnData object with n_obs × n_vars = 2200 × 3\n",
       "    obs: 'R', 'G', 'B', 'X', 'Y'\n",
       "    obsm: 'spatial'"
      ]
     },
     "execution_count": 3,
     "metadata": {},
     "output_type": "execute_result"
    }
   ],
   "source": [
    "adata.obs['X'] = adata.obsm['spatial'][:, 0]  # X coordinate\n",
    "adata.obs['Y'] = adata.obsm['spatial'][:, 1]  # Y coordinate\n",
    "adata"
   ]
  },
  {
   "cell_type": "code",
   "execution_count": 4,
   "id": "4f06da4f-df9a-479f-a550-c7b6f4f707ed",
   "metadata": {},
   "outputs": [],
   "source": [
    "adata.obs[\"sample_id\"] = [0 for x in adata.obs.index]"
   ]
  },
  {
   "cell_type": "code",
   "execution_count": 16,
   "id": "c96e7ca0-5168-4785-bea9-d1f018508b5d",
   "metadata": {},
   "outputs": [
    {
     "ename": "IndentationError",
     "evalue": "expected an indented block (plastinet_model.py, line 119)",
     "output_type": "error",
     "traceback": [
      "Traceback \u001b[0;36m(most recent call last)\u001b[0m:\n",
      "\u001b[0m  File \u001b[1;32m~/mambaforge/envs/plastiNet/lib/python3.8/site-packages/IPython/core/interactiveshell.py:3508\u001b[0m in \u001b[1;35mrun_code\u001b[0m\n    exec(code_obj, self.user_global_ns, self.user_ns)\u001b[0m\n",
      "\u001b[0m  Cell \u001b[1;32mIn[16], line 10\u001b[0m\n    importlib.reload(plastinet_model)\u001b[0m\n",
      "\u001b[0m  File \u001b[1;32m~/mambaforge/envs/plastiNet/lib/python3.8/importlib/__init__.py:169\u001b[0m in \u001b[1;35mreload\u001b[0m\n    _bootstrap._exec(spec, module)\u001b[0m\n",
      "\u001b[0m  File \u001b[1;32m<frozen importlib._bootstrap>:604\u001b[0m in \u001b[1;35m_exec\u001b[0m\n",
      "\u001b[0m  File \u001b[1;32m<frozen importlib._bootstrap_external>:839\u001b[0m in \u001b[1;35mexec_module\u001b[0m\n",
      "\u001b[0m  File \u001b[1;32m<frozen importlib._bootstrap_external>:976\u001b[0m in \u001b[1;35mget_code\u001b[0m\n",
      "\u001b[0m  File \u001b[1;32m<frozen importlib._bootstrap_external>:906\u001b[0m in \u001b[1;35msource_to_code\u001b[0m\n",
      "\u001b[0;36m  File \u001b[0;32m<frozen importlib._bootstrap>:219\u001b[0;36m in \u001b[0;35m_call_with_frames_removed\u001b[0;36m\n",
      "\u001b[0;36m  File \u001b[0;32m~/data/PlastiNet_v2/plastinet/models/plastinet_model.py:119\u001b[0;36m\u001b[0m\n\u001b[0;31m    model.eval()\u001b[0m\n\u001b[0m    ^\u001b[0m\n\u001b[0;31mIndentationError\u001b[0m\u001b[0;31m:\u001b[0m expected an indented block\n"
     ]
    }
   ],
   "source": [
    "import importlib\n",
    "import torch\n",
    "from torch_geometric.data import DataLoader\n",
    "\n",
    "# Import the required modules and use `importlib.reload` to refresh them\n",
    "from plastinet.models import plastinet_model\n",
    "from plastinet.data import data_loader, graph_utils\n",
    "\n",
    "# Reload the modules to refresh them without restarting the kernel\n",
    "importlib.reload(plastinet_model)\n",
    "importlib.reload(data_loader)\n",
    "importlib.reload(graph_utils)\n",
    "\n",
    "# Now re-import the specific classes and functions from the reloaded modules\n",
    "from plastinet.models.plastinet_model import PlastiNet\n",
    "from plastinet.data.data_loader import create_data_objects\n",
    "from plastinet.data.graph_utils import graph_alpha, sparse_mx_to_torch_edge_list, graph_to_sparse_matrix\n",
    "\n",
    "def run_plastinet_on_adata(adata, sample_key='sample_id', radius=50, z_dim=50, epochs=30, spatial_reg=0.2):\n",
    "    \"\"\"\n",
    "    Wrapper function to run PlastiNet on an AnnData object.\n",
    "\n",
    "    Args:\n",
    "        adata (AnnData): AnnData object containing the spatial and gene expression data.\n",
    "        sample_key (str): The key in adata.obs used to distinguish samples.\n",
    "        radius (float): The neighborhood radius for spatial graph construction.\n",
    "        z_dim (int): Dimensionality of the latent space for PlastiNet.\n",
    "        epochs (int): Number of training epochs.\n",
    "        spatial_reg (float): Spatial regularization weight.\n",
    "        \n",
    "    Returns:\n",
    "        PlastiNet object with trained embeddings and attention weights.\n",
    "    \"\"\"\n",
    "    # Create data objects for PyTorch Geometric DataLoader\n",
    "    data_list = create_data_objects(\n",
    "        adata=adata,\n",
    "        sample_key=sample_key,\n",
    "        radius = radius,\n",
    "        graph_alpha=graph_alpha,\n",
    "        sparse_mx_to_torch_edge_list=sparse_mx_to_torch_edge_list,\n",
    "        graph_to_sparse_matrix=graph_to_sparse_matrix\n",
    "    )\n",
    "\n",
    "    # Initialize DataLoader\n",
    "    dataloader = DataLoader(data_list, batch_size=1, shuffle=True)\n",
    "\n",
    "    # Initialize and train PlastiNet\n",
    "    plastinet = PlastiNet(adata=adata, sample_key=sample_key, radius=radius, z_dim=z_dim, epochs=epochs, spatial_reg=spatial_reg)\n",
    "    plastinet.train(dataloader)\n",
    "\n",
    "    return plastinet\n"
   ]
  },
  {
   "cell_type": "code",
   "execution_count": 17,
   "id": "07a5112a-54a6-431f-8026-f053c92f5f4b",
   "metadata": {},
   "outputs": [
    {
     "name": "stdout",
     "output_type": "stream",
     "text": [
      "Epoch 0/1, Loss: 13.456686973571777\n"
     ]
    },
    {
     "ename": "AttributeError",
     "evalue": "'PlastiNet' object has no attribute 'get_embedding_adata'",
     "output_type": "error",
     "traceback": [
      "\u001b[0;31m---------------------------------------------------------------------------\u001b[0m",
      "\u001b[0;31mAttributeError\u001b[0m                            Traceback (most recent call last)",
      "Cell \u001b[0;32mIn[17], line 11\u001b[0m\n\u001b[1;32m      1\u001b[0m plastinet_model \u001b[38;5;241m=\u001b[39m run_plastinet_on_adata(\n\u001b[1;32m      2\u001b[0m     adata\u001b[38;5;241m=\u001b[39madata, \n\u001b[1;32m      3\u001b[0m     sample_key\u001b[38;5;241m=\u001b[39m\u001b[38;5;124m'\u001b[39m\u001b[38;5;124msample_id\u001b[39m\u001b[38;5;124m'\u001b[39m,  \u001b[38;5;66;03m# Modify based on your actual sample key\u001b[39;00m\n\u001b[0;32m   (...)\u001b[0m\n\u001b[1;32m      7\u001b[0m     spatial_reg\u001b[38;5;241m=\u001b[39m\u001b[38;5;241m0.2\u001b[39m\n\u001b[1;32m      8\u001b[0m )\n\u001b[1;32m     10\u001b[0m \u001b[38;5;66;03m# Access the resulting embeddings and attention weights\u001b[39;00m\n\u001b[0;32m---> 11\u001b[0m embedding_adata \u001b[38;5;241m=\u001b[39m \u001b[43mplastinet_model\u001b[49m\u001b[38;5;241;43m.\u001b[39;49m\u001b[43mget_embedding_adata\u001b[49m()\n",
      "\u001b[0;31mAttributeError\u001b[0m: 'PlastiNet' object has no attribute 'get_embedding_adata'"
     ]
    }
   ],
   "source": [
    "plastinet_model = run_plastinet_on_adata(\n",
    "    adata=adata, \n",
    "    sample_key='sample_id',  # Modify based on your actual sample key\n",
    "    radius=10, \n",
    "    z_dim=2, \n",
    "    epochs=1, \n",
    "    spatial_reg=0.2\n",
    ")\n",
    "\n",
    "# Access the resulting embeddings and attention weights\n",
    "embedding_adata = plastinet_model.get_embedding_adata()"
   ]
  },
  {
   "cell_type": "code",
   "execution_count": null,
   "id": "e3c71a39-c9f8-492b-b038-3c3d3aa019a6",
   "metadata": {},
   "outputs": [],
   "source": []
  }
 ],
 "metadata": {
  "kernelspec": {
   "display_name": "plastiNet",
   "language": "python",
   "name": "plastinet"
  },
  "language_info": {
   "codemirror_mode": {
    "name": "ipython",
    "version": 3
   },
   "file_extension": ".py",
   "mimetype": "text/x-python",
   "name": "python",
   "nbconvert_exporter": "python",
   "pygments_lexer": "ipython3",
   "version": "3.8.19"
  }
 },
 "nbformat": 4,
 "nbformat_minor": 5
}
